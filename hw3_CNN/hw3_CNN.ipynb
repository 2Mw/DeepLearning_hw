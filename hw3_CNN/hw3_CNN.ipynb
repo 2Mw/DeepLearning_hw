{
 "cells": [
  {
   "cell_type": "markdown",
   "metadata": {},
   "source": [
    "\n",
    "# hw3_CNN\n",
    "\n",
    "题目：食物的分类\n",
    "\n",
    "kaggle link:https://www.kaggle.com/c/ml2020spring-hw3 （数据集大小1.1GB）\n",
    "\n",
    "**关键词：** CNN;Classification;"
   ]
  },
  {
   "cell_type": "markdown",
   "metadata": {},
   "source": [
    "### PyTorch小知识\n",
    "\n",
    "`torch.utils.data.Dataset`\n",
    "\n",
    "Dataset分为两种：1. map-style dataset 2. iterable-style dataset\n",
    "\n",
    "本程序中使用的是map-style dataset\n",
    "\n",
    "映射形式的数据集的类需要实现\\_\\_getitem__() 和 \\_\\_len__()函数来通过index进行数据访问和查看数据集的长度。\n",
    "\n",
    "For example, such a dataset, when accessed with dataset[idx], could read the idx-th image and its corresponding label from a folder on the disk.\n",
    "\n",
    "\n",
    "`torch.utils.data.DataLoader` 是pytorch数据加载中最实用的包，能够以迭代的形式加载数据集。\n",
    "\n",
    "其可以：\n",
    "\n",
    "* 映射以及迭代的方式加载数据集（map-style and iterable-style）\n",
    "* 自定义数据加载方式\n",
    "* 自动分批（batch）\n",
    "* 单线程或者多线程加载数据\n",
    "* …………\n",
    "\n",
    "\n",
    "`torch.nn.Conv2d(in_channels, out_channels, kernel_size, stride = 1, padding = 0, dilation = 1, groups = 1)`\n",
    "\n",
    "* `in_channels`: 输入通道。 什么是通道：https://blog.csdn.net/sscc_learning/article/details/79814146\n",
    "* `out_channels`: 输出通道。一般取决于卷积核的数量。\n",
    "* `kernel_size`: 卷积核的大小，当卷积是方形的时候为整数边长，不是方形要输入元组表示高和宽。\n",
    "* `stride`: 卷积核移动的步长\n",
    "* `padding`: 对原图像卷积的填充。\n",
    "* `dilation`: (先不管，在这里没啥用"
   ]
  },
  {
   "cell_type": "code",
   "execution_count": null,
   "metadata": {},
   "outputs": [],
   "source": []
  },
  {
   "cell_type": "code",
   "execution_count": null,
   "metadata": {},
   "outputs": [],
   "source": []
  },
  {
   "cell_type": "code",
   "execution_count": null,
   "metadata": {},
   "outputs": [],
   "source": []
  },
  {
   "cell_type": "markdown",
   "metadata": {},
   "source": [
    "参考文章：\n",
    "\n",
    "* 理解卷积神经网络中的通道 https://blog.csdn.net/sscc_learning/article/details/79814146 \n",
    "* torch.nn.Conv2d()的理解 https://blog.csdn.net/qq_38863413/article/details/104108808\n",
    "* Pytorch中的DataLoader和Dataset https://pytorch.org/docs/stable/data.html\n",
    "* Pytorch中model.train()与model.eval()的作用 https://blog.csdn.net/qq_38410428/article/details/101102075"
   ]
  }
 ],
 "metadata": {
  "kernelspec": {
   "display_name": "Python 3",
   "language": "python",
   "name": "python3"
  },
  "language_info": {
   "codemirror_mode": {
    "name": "ipython",
    "version": 3
   },
   "file_extension": ".py",
   "mimetype": "text/x-python",
   "name": "python",
   "nbconvert_exporter": "python",
   "pygments_lexer": "ipython3",
   "version": "3.8.5"
  }
 },
 "nbformat": 4,
 "nbformat_minor": 4
}
