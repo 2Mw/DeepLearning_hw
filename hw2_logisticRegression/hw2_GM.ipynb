{
 "cells": [
  {
   "cell_type": "markdown",
   "metadata": {},
   "source": [
    "# 二值分类之贝叶斯分类器（下）\n",
    "\n",
    "Probabilistic generative model\n",
    "\n",
    "题目：预测一个人的工资是否能超过 $ 50000\n",
    "\n",
    "贝叶斯分类器可能会“脑补”出一些解。如果数据量较少，可能generative model的效果会更好，如果数据量较多的话，使用discriminative model效果更好。虽然discriminative model是由generative model产生，但是DM不会有“脑补”。\n",
    "\n",
    "前几个步骤同逻辑回归相同。\n",
    "\n",
    "Kaggle: https://www.kaggle.com/c/ml2020spring-hw2\n",
    "\n",
    "Simple baseline: 0.88675\n",
    "\n",
    "Strong baseline:0.89102\n",
    "\n",
    "Score: 0.87575\n",
    "\n",
    "**关键词：** Generative model; Binary classfication; Probabilistic; Bayes theory;"
   ]
  },
  {
   "cell_type": "code",
   "execution_count": 1,
   "metadata": {},
   "outputs": [],
   "source": [
    "# Probabilistic generative model\n",
    "import numpy as np\n",
    "import matplotlib.pyplot as plt\n",
    "import pandas as pd\n",
    "\n",
    "x = pd.read_csv('./data/X_train.csv', index_col=0).astype(np.float).to_numpy()\n",
    "y = pd.read_csv('./data/Y_train.csv', index_col=0).astype(np.int).to_numpy().flatten()\n",
    "x_test = pd.read_csv('./data/X_test.csv', index_col=0).astype(np.float).to_numpy()\n",
    "EPS = 1e-8\n",
    "\n",
    "dim = x.shape[1]"
   ]
  },
  {
   "cell_type": "markdown",
   "metadata": {},
   "source": [
    "读取数据"
   ]
  },
  {
   "cell_type": "code",
   "execution_count": 2,
   "metadata": {},
   "outputs": [],
   "source": [
    "def normalize(x):\n",
    "    x_mean = np.mean(x, axis=0)\n",
    "    x_std = np.std(x, axis=0)\n",
    "    return (x - x_mean) / (x_std + EPS)\n",
    "\n",
    "\n",
    "x = normalize(x)"
   ]
  },
  {
   "cell_type": "markdown",
   "metadata": {},
   "source": [
    "进行标准化"
   ]
  },
  {
   "cell_type": "code",
   "execution_count": 3,
   "metadata": {},
   "outputs": [],
   "source": [
    "x_train_0 = np.array([a for a, b in zip(x, y) if b == 0])\n",
    "x_train_1 = np.array([a for a, b in zip(x, y) if b == 1])\n",
    "\n",
    "mean_0 = np.mean(x_train_0, axis=0)  # 计算u1\n",
    "mean_1 = np.mean(x_train_1, axis=0)  # 计算u2"
   ]
  },
  {
   "cell_type": "markdown",
   "metadata": {},
   "source": [
    "求不同类别的数量，由于是二值分类，因此有两个类别。\n",
    "\n",
    "贝叶斯分类: $P(C_1|x) = \\dfrac{P(x|C_1)P(C_1)}{\\sum_i^n P(x|C_i)P(C_i)}$\n",
    "\n",
    "由于使用的是Generative Model，两者共用一个covariance，分类结果两者的边界会变成一个直线边界。\n",
    "\n",
    "共用的协方差为两者分别协方差的加权平均：$Cov(C) = \\dfrac{m\\cdot Cov(C_1)+n\\cdot Cov(C_2)}{m+n}$\n",
    "\n",
    "进行计算之后预测结果：\n",
    "\n",
    "$z = (\\mu_1-\\mu_2)^T\\Sigma^{-1}x-\\dfrac12(\\mu_1)^T\\Sigma^{-1}\\mu_1+\\dfrac12(\\mu_2)^T\\Sigma^{-1}\\mu_2+\\ln\\dfrac{N_1}{N_2}$\n",
    "\n",
    "其中：$\\omega^T = (\\mu_1-\\mu_2)^T\\Sigma^{-1}x\\\\ b = \\dfrac12(\\mu_1)^T\\Sigma^{-1}\\mu_1+\\dfrac12(\\mu_2)^T\\Sigma^{-1}\\mu_2+\\ln\\dfrac{N_1}{N_2}$\n",
    "\n",
    "因此在GM中，需要计算的值有$N_1,N_2,\\mu_1,\\mu_2,\\Sigma$"
   ]
  },
  {
   "cell_type": "code",
   "execution_count": 4,
   "metadata": {},
   "outputs": [],
   "source": [
    "N1 = x_train_0.shape[0]\n",
    "N2 = x_train_1.shape[0]\n",
    "\n",
    "cov_0 = np.zeros((dim, dim))\n",
    "cov_1 = np.zeros((dim, dim))\n",
    "\n",
    "for i in x_train_0:\n",
    "    cov_0 += np.dot(np.transpose([i - mean_0]), [i - mean_0]) / N1\n",
    "for i in x_train_1:\n",
    "    cov_1 += np.dot(np.transpose([i - mean_1]), [i - mean_1]) / N2\n",
    "\n",
    "# shared covariance. Use weighted average of individual in-class covariance.\n",
    "cov = (cov_0 * N1 + cov_1 * N2) / (N1 + N2)"
   ]
  },
  {
   "cell_type": "markdown",
   "metadata": {},
   "source": [
    "计算共同的协方差，可以明显感觉到，**这里需要重复计算大矩阵的运算，耗费时间增多**。"
   ]
  },
  {
   "cell_type": "code",
   "execution_count": 5,
   "metadata": {},
   "outputs": [],
   "source": [
    "# Compute inverse of covariance matrix.\n",
    "# Since covariance matrix may be nearly singular, np.linalg.inv() may give a large numerical error.\n",
    "# Via SVD decomposition, one can get matrix inverse efficiently and accurately.\n",
    "u, s, v = np.linalg.svd(cov, full_matrices=False)\n",
    "inv = np.matmul(v.T * 1 / s, u.T)"
   ]
  },
  {
   "cell_type": "markdown",
   "metadata": {},
   "source": [
    "计算逆矩阵，这个注释解释了为什么用这个函数`np.linalg.svd()`"
   ]
  },
  {
   "cell_type": "code",
   "execution_count": 6,
   "metadata": {},
   "outputs": [
    {
     "name": "stdout",
     "output_type": "stream",
     "text": [
      "Training accuracy: 0.8731753170156296\n"
     ]
    }
   ],
   "source": [
    "w = np.dot(inv, mean_0 - mean_1)\n",
    "b = (-0.5) * np.dot(mean_0, np.dot(inv, mean_0)) + 0.5 * np.dot(mean_1, np.dot(inv, mean_1)) + np.log(N1/N2)\n",
    "\n",
    "y_train_pred = 1 - np.round(1 / (1 + np.exp(-(np.dot(x, w) + b))))\n",
    "print(f'Training accuracy: {1 - np.mean(np.abs(y - y_train_pred))}')"
   ]
  },
  {
   "cell_type": "markdown",
   "metadata": {},
   "source": [
    "这里的“1-”可能是标签错误了，需要置换一下。"
   ]
  },
  {
   "cell_type": "code",
   "execution_count": 8,
   "metadata": {},
   "outputs": [
    {
     "name": "stdout",
     "output_type": "stream",
     "text": [
      "over\n"
     ]
    },
    {
     "data": {
      "text/html": [
       "<div>\n",
       "<style scoped>\n",
       "    .dataframe tbody tr th:only-of-type {\n",
       "        vertical-align: middle;\n",
       "    }\n",
       "\n",
       "    .dataframe tbody tr th {\n",
       "        vertical-align: top;\n",
       "    }\n",
       "\n",
       "    .dataframe thead th {\n",
       "        text-align: right;\n",
       "    }\n",
       "</style>\n",
       "<table border=\"1\" class=\"dataframe\">\n",
       "  <thead>\n",
       "    <tr style=\"text-align: right;\">\n",
       "      <th></th>\n",
       "      <th>label</th>\n",
       "    </tr>\n",
       "  </thead>\n",
       "  <tbody>\n",
       "    <tr>\n",
       "      <th>0</th>\n",
       "      <td>0</td>\n",
       "    </tr>\n",
       "    <tr>\n",
       "      <th>1</th>\n",
       "      <td>0</td>\n",
       "    </tr>\n",
       "    <tr>\n",
       "      <th>2</th>\n",
       "      <td>0</td>\n",
       "    </tr>\n",
       "    <tr>\n",
       "      <th>3</th>\n",
       "      <td>0</td>\n",
       "    </tr>\n",
       "    <tr>\n",
       "      <th>4</th>\n",
       "      <td>0</td>\n",
       "    </tr>\n",
       "    <tr>\n",
       "      <th>...</th>\n",
       "      <td>...</td>\n",
       "    </tr>\n",
       "    <tr>\n",
       "      <th>27617</th>\n",
       "      <td>1</td>\n",
       "    </tr>\n",
       "    <tr>\n",
       "      <th>27618</th>\n",
       "      <td>0</td>\n",
       "    </tr>\n",
       "    <tr>\n",
       "      <th>27619</th>\n",
       "      <td>1</td>\n",
       "    </tr>\n",
       "    <tr>\n",
       "      <th>27620</th>\n",
       "      <td>0</td>\n",
       "    </tr>\n",
       "    <tr>\n",
       "      <th>27621</th>\n",
       "      <td>0</td>\n",
       "    </tr>\n",
       "  </tbody>\n",
       "</table>\n",
       "<p>27622 rows × 1 columns</p>\n",
       "</div>"
      ],
      "text/plain": [
       "       label\n",
       "0          0\n",
       "1          0\n",
       "2          0\n",
       "3          0\n",
       "4          0\n",
       "...      ...\n",
       "27617      1\n",
       "27618      0\n",
       "27619      1\n",
       "27620      0\n",
       "27621      0\n",
       "\n",
       "[27622 rows x 1 columns]"
      ]
     },
     "execution_count": 8,
     "metadata": {},
     "output_type": "execute_result"
    }
   ],
   "source": [
    "x_test = normalize(x_test)\n",
    "predict = 1 - np.round(1 / (1 + np.exp(-(np.dot(x_test, w) + b))))\n",
    "rs = pd.DataFrame(predict,columns=[\"label\"]).astype(np.int)\n",
    "rs.to_csv(\"ans3.csv\")\n",
    "print(\"over\")\n",
    "rs"
   ]
  },
  {
   "cell_type": "markdown",
   "metadata": {},
   "source": [
    "### 总结与展望\n",
    "\n",
    "* 对其中的矩阵运算不是很了解，尤其是协方差的计算，其函数`np.linalg.svd()`\n",
    "* 大致了解Generative Model的思路和流程\n",
    "* 由于本数据集的数据量较多，因此Generative Model的效果没有逻辑回归的结果较好。"
   ]
  }
 ],
 "metadata": {
  "kernelspec": {
   "display_name": "Python 3",
   "language": "python",
   "name": "python3"
  },
  "language_info": {
   "codemirror_mode": {
    "name": "ipython",
    "version": 3
   },
   "file_extension": ".py",
   "mimetype": "text/x-python",
   "name": "python",
   "nbconvert_exporter": "python",
   "pygments_lexer": "ipython3",
   "version": "3.8.5"
  }
 },
 "nbformat": 4,
 "nbformat_minor": 4
}
