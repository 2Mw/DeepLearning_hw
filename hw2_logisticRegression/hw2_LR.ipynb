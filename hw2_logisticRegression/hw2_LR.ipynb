{
 "cells": [
  {
   "cell_type": "markdown",
   "metadata": {},
   "source": [
    "# HW2：二值逻辑回归 binary logistics regression\n",
    "\n",
    "discriminative\n",
    "\n",
    "题目：预测一个人的工资是否能超过 $ 50000\n",
    "\n",
    "Kaggle: https://www.kaggle.com/c/ml2020spring-hw2\n",
    "\n",
    "Simple baseline: 0.88675\n",
    "\n",
    "Strong baseline:0.89102\n",
    "\n",
    "第一次的分数：0.5880\n",
    "\n",
    "第二次的分数：0.88567 (<font color='red'>**未达标**</font>)\n",
    "\n",
    "**关键词：** Discriminative model; Binary classfication; Logistic regression; Mini-Batch Gradient Descent;\n",
    "\n",
    "**大致思路：**读取数据 → 正则化输入数据 → 划分数据集 → 设置参数 → 训练（使用交叉熵 + 小批量梯度下降 + 缓速学习速率）→ 正则化测试数据 → 输出结果 → 提交kaggle → 写Generative Model代码\n",
    "\n",
    "## 代码如下：\n"
   ]
  },
  {
   "cell_type": "code",
   "execution_count": 1,
   "metadata": {},
   "outputs": [],
   "source": [
    "# logistic model\n",
    "import numpy as np\n",
    "import matplotlib.pyplot as plt\n",
    "import pandas as pd\n",
    "EPS = 1e-8\n",
    "\n",
    "np.random.seed(0)    # used in mini-batch gradient descent to shuffle array\n",
    "# read files\n",
    "x = pd.read_csv('./data/X_train.csv', index_col=0).astype(np.float).to_numpy()\n",
    "y = pd.read_csv('./data/Y_train.csv', index_col=0).astype(np.int).to_numpy().flatten()     # 1-D dimension use VECTOR.\n",
    "x_test = pd.read_csv('./data/X_test.csv',index_col=0).astype(np.float).to_numpy()"
   ]
  },
  {
   "cell_type": "markdown",
   "metadata": {},
   "source": [
    "* 在小批量梯度下降法(MBGD)中，需要不断的打乱顺序进行训练，需要使用numpy中的random\n",
    "* 对于分类的标签数据类型没必要是float类型，只需要int类型即可。一维标签数据使用  *flatten()*  函数表示向量(n,).\n",
    "* 定义EPS($\\epsilon$)防止除零异常"
   ]
  },
  {
   "cell_type": "code",
   "execution_count": 2,
   "metadata": {},
   "outputs": [],
   "source": [
    "# === some useful function ===\n",
    "\n",
    "sigmoid = lambda z: np.clip(1 / (1 + np.exp(-z)),EPS,1-EPS) #clip函数用于处理异常结果，使结果处在 [EPS, 1-EPS] 区间内\n",
    "\n",
    "def normalize(x: np.ndarray):  # 正则化函数\n",
    "    x_mean = np.mean(x, axis=0)\n",
    "    x_std = np.std(x, axis=0)\n",
    "    return (x - x_mean) / (x_std + EPS)  # 使用EPS即可省略判断为0的情况\n",
    "\n",
    "\n",
    "def shuffle(x, y):    # 打乱数组\n",
    "    \"\"\"shuffle the dataset, often using MBGD\n",
    "\n",
    "    Args:\n",
    "        x ([np.ndarray]): [input dataset]\n",
    "        y ([np.ndarray]): [label dataset]\n",
    "\n",
    "    Returns:\n",
    "        (x,y): shuffled input dataset and label dataset\n",
    "    \"\"\"\n",
    "    randomize = np.arange(len(x))\n",
    "    np.random.shuffle(randomize)\n",
    "    return x[randomize], y[randomize]\n",
    "\n",
    "\n",
    "def divideSet(x, y, ratio=0.25):    # 用于分割数据集\n",
    "    p = int(len(x)*(1-ratio))\n",
    "    return x[:p, :], x[p:, :], y[:p], y[p:]"
   ]
  },
  {
   "cell_type": "markdown",
   "metadata": {},
   "source": [
    "一些操作会经常使用在重复计算的操作中，因此可以将常用的操作写成函数，方便后续使用。"
   ]
  },
  {
   "cell_type": "code",
   "execution_count": 3,
   "metadata": {
    "scrolled": true
   },
   "outputs": [
    {
     "name": "stdout",
     "output_type": "stream",
     "text": [
      "training dataset size: 48830\n",
      "validation / devlopment dataset size: 5426\n"
     ]
    }
   ],
   "source": [
    "# regularization / normalization\n",
    "x = normalize(x)\n",
    "\n",
    "# divide set\n",
    "x_train, x_valid, y_train, y_valid = divideSet(x, y, 0.1)\n",
    "train_size = len(x_train)\n",
    "valid_size = len(x_valid)\n",
    "print(f'training dataset size: {train_size}')\n",
    "print(f'validation / devlopment dataset size: {valid_size}')"
   ]
  },
  {
   "cell_type": "markdown",
   "metadata": {},
   "source": [
    "先对数据集进行正则化，然后进行数据分割"
   ]
  },
  {
   "cell_type": "code",
   "execution_count": 4,
   "metadata": {},
   "outputs": [],
   "source": [
    "def cross_entrophy(y_pred, y_label):\n",
    "    return -np.dot(y_label,np.log(y_pred+EPS)) - np.dot(1-y_label,np.log(1-y_pred+EPS))\n",
    "\n",
    "def gradient(x, y_label, w):\n",
    "    \"\"\"\n",
    "    Returns:\n",
    "        (w_grad,b_grad): weight and bias gradient descent\n",
    "    \"\"\"\n",
    "    return np.dot(x.T, sigmoid(np.dot(x, w)) - y_label)\n",
    "\n",
    "def predict(x, w, is_bool = True):\n",
    "    # use to binary classification\n",
    "    if is_bool:\n",
    "        return np.round(sigmoid(np.dot(x, w)))\n",
    "    else:\n",
    "        return sigmoid(np.dot(x, w))\n",
    "\n",
    "def accurate(y, y_label):\n",
    "    # calculate the accuracy\n",
    "    return 1 - np.mean(np.abs(y - y_label))"
   ]
  },
  {
   "cell_type": "markdown",
   "metadata": {},
   "source": [
    "* 定义交叉熵函数，用于分类的损失函数\n",
    "* gradient梯度函数，注意这里的正负号，以及在函数中是否省略。$-\\sum(y^\\text{^}-y(x,w))x_i$\n",
    "* 这里的predict函数适用于计算函数值，方便后续使用。对于这里的`is_bool`参数<font color='red'>极其重要</font>：对于`is_bool=True`不需要计算loss的时候直接得出最终预测的结果bool值；对于`is_bool=False`时候需要计算loss损失值，这十分关键，因为对于每一次的预测值，不是100%的预测，而是一个float类型的值，相对于预测的可信度。对于一个值0.56与0.96来讲，对应的最终二值分类的结果两者可能都为1，都是可能性不同，如果直接使用最后预测的结果`1`来看，反而会缺失精度，造成预测结果不准确。\n",
    "* acccurate函数用于计算最终预测的准确度。"
   ]
  },
  {
   "cell_type": "code",
   "execution_count": 5,
   "metadata": {},
   "outputs": [],
   "source": [
    "#  === start train Mini-Batch Gradient decent ===\n",
    "\n",
    "# MBGD variable config\n",
    "max_iter = 20   # 最多迭代次数\n",
    "batch_size = 16    # 对于深度学习中，如果使用GPU进行训练，batch size最好为2的次方数字。\n",
    "eta = 0.2    # 学习速率\n",
    "\n",
    "# variables for plotting\n",
    "train_loss = []\n",
    "train_accuracy = []\n",
    "valid_loss = []\n",
    "valid_accuracy = []\n",
    "\n",
    "# weights and coefficients\n",
    "dim = x_train.shape[1] + 1\n",
    "w = np.zeros((dim,))\n",
    "\n",
    "step = 1    # use to decay learning rate"
   ]
  },
  {
   "cell_type": "markdown",
   "metadata": {},
   "source": [
    "* 相比于普通的RMSE迭代，其迭代的次数较少。在深度学习中MBGD使用的次数也更加频繁。\n",
    "* 使用的学习速率要进行缓速（decay），防止步长过长导致进行梯度下降的次数增多。因此设置step参数。"
   ]
  },
  {
   "cell_type": "code",
   "execution_count": 6,
   "metadata": {},
   "outputs": [
    {
     "name": "stdout",
     "output_type": "stream",
     "text": [
      "train loss 0.27, training accuracy 0.88\n",
      "validation loss 0.29, validation accuracy 0.88\n"
     ]
    }
   ],
   "source": [
    "for epoch in range(max_iter):\n",
    "    # shuffle dataset\n",
    "    x_train, y_train = shuffle(x_train, y_train)\n",
    "    for idx in range(int(np.floor(train_size / batch_size))):\n",
    "        x_batch = x_train[idx*batch_size:(idx+1)*batch_size]\n",
    "        y_batch = y_train[idx*batch_size:(idx+1)*batch_size]\n",
    "        x_batch = np.concatenate((np.ones((len(x_batch),1)), x_batch), 1)\n",
    "\n",
    "        w_grad = gradient(x_batch,y_batch,w)\n",
    "        w = w - eta / np.sqrt(step) * w_grad\n",
    "        step += 1\n",
    "\n",
    "    # Compute loss and accuracy\n",
    "    y_train_pred = predict(np.concatenate((np.ones((train_size,1)), x_train), 1),w,False)\n",
    "    Y_train_pred = np.round(y_train_pred)\n",
    "    train_accuracy.append(accurate(Y_train_pred, y_train))\n",
    "    train_loss.append(cross_entrophy(y_train_pred, y_train) / train_size)\n",
    "\n",
    "    y_valid_pred = predict(np.concatenate((np.ones((valid_size,1)), x_valid), 1),w,False)\n",
    "    Y_valid_pred = np.round(y_valid_pred)\n",
    "    valid_accuracy.append(accurate(Y_valid_pred,y_valid))\n",
    "    valid_loss.append(cross_entrophy(y_valid_pred,y_valid) / valid_size)\n",
    "\n",
    "print(f\"train loss {round(train_loss[-1],2)}, training accuracy {round(train_accuracy[-1],2)}\")\n",
    "print(f\"validation loss {round(valid_loss[-1],2)}, validation accuracy {round(valid_accuracy[-1],2)}\")"
   ]
  },
  {
   "cell_type": "markdown",
   "metadata": {},
   "source": [
    "* 在Mini-Batch Gradient Descent中，每一次进行计算损失以及精确度的过程称为一个 “epoch”。\n",
    "* 在每个epoch中，需要对训练数据进行打乱（shuffle），防止测试的数据过于“死板”。并且每次去除一个batch size的数据进行参数更新梯度下降，也就意味着，每个epoch中，需要进行“train size / batch”数量的次的参数更新，每次更新算是一个“step”。\n",
    "* 学习速率的递减，参数的更新公式：$ w = w - \\dfrac{\\eta}{\\sqrt{step}} \\nabla L $\n",
    "* 可以在每个epoch中进行validation/development数据集进行验证以及精确度、损失参数的记录，用于绘图"
   ]
  },
  {
   "cell_type": "code",
   "execution_count": 7,
   "metadata": {},
   "outputs": [
    {
     "data": {
      "image/png": "[encoded data removed]",
      "text/plain": [
       "<Figure size 432x288 with 1 Axes>"
      ]
     },
     "metadata": {
      "needs_background": "light"
     },
     "output_type": "display_data"
    },
    {
     "data": {
      "image/png": "[encoded data removed]",
      "text/plain": [
       "<Figure size 432x288 with 1 Axes>"
      ]
     },
     "metadata": {
      "needs_background": "light"
     },
     "output_type": "display_data"
    }
   ],
   "source": [
    "# plot loss curve\n",
    "plt.plot(train_loss)\n",
    "plt.plot(valid_loss)\n",
    "plt.title(\"Loss Curve\")\n",
    "plt.legend([\"train\",\"validation\"])\n",
    "plt.show()\n",
    "\n",
    "# plot accuracy curve\n",
    "plt.plot(train_accuracy)\n",
    "plt.plot(valid_accuracy)\n",
    "plt.title(\"Accuracy Curve\")\n",
    "plt.legend([\"train\", \"validation\"])\n",
    "plt.show()"
   ]
  },
  {
   "cell_type": "markdown",
   "metadata": {},
   "source": [
    "绘制图像"
   ]
  },
  {
   "cell_type": "code",
   "execution_count": 9,
   "metadata": {},
   "outputs": [
    {
     "data": {
      "text/html": [
       "<div>\n",
       "<style scoped>\n",
       "    .dataframe tbody tr th:only-of-type {\n",
       "        vertical-align: middle;\n",
       "    }\n",
       "\n",
       "    .dataframe tbody tr th {\n",
       "        vertical-align: top;\n",
       "    }\n",
       "\n",
       "    .dataframe thead th {\n",
       "        text-align: right;\n",
       "    }\n",
       "</style>\n",
       "<table border=\"1\" class=\"dataframe\">\n",
       "  <thead>\n",
       "    <tr style=\"text-align: right;\">\n",
       "      <th></th>\n",
       "      <th>label</th>\n",
       "    </tr>\n",
       "  </thead>\n",
       "  <tbody>\n",
       "    <tr>\n",
       "      <th>0</th>\n",
       "      <td>0</td>\n",
       "    </tr>\n",
       "    <tr>\n",
       "      <th>1</th>\n",
       "      <td>0</td>\n",
       "    </tr>\n",
       "    <tr>\n",
       "      <th>2</th>\n",
       "      <td>0</td>\n",
       "    </tr>\n",
       "    <tr>\n",
       "      <th>3</th>\n",
       "      <td>0</td>\n",
       "    </tr>\n",
       "    <tr>\n",
       "      <th>4</th>\n",
       "      <td>0</td>\n",
       "    </tr>\n",
       "    <tr>\n",
       "      <th>...</th>\n",
       "      <td>...</td>\n",
       "    </tr>\n",
       "    <tr>\n",
       "      <th>27617</th>\n",
       "      <td>0</td>\n",
       "    </tr>\n",
       "    <tr>\n",
       "      <th>27618</th>\n",
       "      <td>0</td>\n",
       "    </tr>\n",
       "    <tr>\n",
       "      <th>27619</th>\n",
       "      <td>1</td>\n",
       "    </tr>\n",
       "    <tr>\n",
       "      <th>27620</th>\n",
       "      <td>0</td>\n",
       "    </tr>\n",
       "    <tr>\n",
       "      <th>27621</th>\n",
       "      <td>0</td>\n",
       "    </tr>\n",
       "  </tbody>\n",
       "</table>\n",
       "<p>27622 rows × 1 columns</p>\n",
       "</div>"
      ],
      "text/plain": [
       "       label\n",
       "0          0\n",
       "1          0\n",
       "2          0\n",
       "3          0\n",
       "4          0\n",
       "...      ...\n",
       "27617      0\n",
       "27618      0\n",
       "27619      1\n",
       "27620      0\n",
       "27621      0\n",
       "\n",
       "[27622 rows x 1 columns]"
      ]
     },
     "execution_count": 9,
     "metadata": {},
     "output_type": "execute_result"
    }
   ],
   "source": [
    "# predict y\n",
    "x_test = normalize(x_test)\n",
    "y_test = predict(np.concatenate((np.ones((len(x_test),1)), x_test), 1),w)\n",
    "rs = pd.DataFrame(y_test,columns=[\"label\"]).astype(np.int)\n",
    "rs.to_csv(\"ans2.csv\")\n",
    "rs"
   ]
  },
  {
   "cell_type": "markdown",
   "metadata": {},
   "source": [
    "最终预测，并且输出结果\n",
    "## 结果与展望\n",
    "\n",
    "\n",
    "相比于flawed版本：\n",
    "\n",
    "* 进行了label标签的向量化\n",
    "* 优化了regularization，并且常用的操作写成了函数\n",
    "* 进行了cross validation\n",
    "* 了解和掌握Mini-Batch Gradient Descent，flawed版本还是用的RMSE\n",
    "* 更加深刻理解了`np.dot()`函数，在某些特殊情况下可以和`np.sum()`函数进行同义转换。\n",
    "* 新了解了`np.clip()`函数\n",
    "* 在深度学习中，MBGD要比BGD、SGD要更加常用一些。\n",
    "\n",
    "一些问题：\n",
    "\n",
    "* 有篇文章讲SGD $\\approx$ MBGD？ https://zhuanlan.zhihu.com/p/72929546\n",
    "* 需要深度了解一下MBDG，BDG，SDG的优点和缺点\n",
    "\n",
    "### 关于正则化regularization\n",
    "\n",
    "$L = \\dfrac1n\\sum(\\hat y^n-(\\sum w_ix_i + b))^2 + \\lambda \\sum(w_i)^2$\n",
    "\n",
    "$\\nabla w = \\sum(\\hat y^n-(\\sum w_ix_i + b)) + 2 \\lambda \\sum(w_i) $\n",
    "\n",
    "$\\nabla b = \\sum(\\hat y^n-(\\sum w_ix_i + b))$\n",
    "\n",
    "loss 函数可以写成以下的样子：\n",
    "\n",
    "\n",
    "\n",
    "## Others:\n",
    "\n",
    "### Why SGD:\n",
    "\n",
    "However, in other cases, evaluating the sum-gradient may require expensive evaluations of the gradients from all summand functions. When the data set is large and no simple formulas exist, evaluating the sums of gradients becomes very expensive, because evaluating the gradient requires evaluating all the summand functions' gradients. To economize on the computational cost at every iteration, stochastic gradient descent samples a subset of summand functions at every step.\n",
    "\n",
    "<small> From https://en.wikipedia.org/wiki/Stochastic_gradient_descent </small>\n",
    "\n",
    "### About MBGD\n",
    "The mini-batch GD: it seeks to find a balance point between stochastic GD and batch GD.\n",
    "\n",
    "\n",
    "### Pseudocode of gradient descent:\n",
    "\n",
    "```\n",
    "model = initialization(...)\n",
    "n_epochs = ...\n",
    "train_data = ...\n",
    "for i in n_epochs:\n",
    "\ttrain_data = shuffle(train_data)\n",
    "\tX, y = split(train_data)\n",
    "\tpredictions = predict(X, model)\n",
    "\terror = calculate_error(y, predictions)\n",
    "model = update_model(model, error)\n",
    "```"
   ]
  }
 ],
 "metadata": {
  "kernelspec": {
   "display_name": "Python 3",
   "language": "python",
   "name": "python3"
  },
  "language_info": {
   "codemirror_mode": {
    "name": "ipython",
    "version": 3
   },
   "file_extension": ".py",
   "mimetype": "text/x-python",
   "name": "python",
   "nbconvert_exporter": "python",
   "pygments_lexer": "ipython3",
   "version": "3.8.5"
  }
 },
 "nbformat": 4,
 "nbformat_minor": 4
}
