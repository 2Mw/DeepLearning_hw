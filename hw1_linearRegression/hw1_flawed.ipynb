{
 "cells": [
  {
   "cell_type": "markdown",
   "metadata": {},
   "source": [
    "# 使用线性回归预测某城市的PM2.5数值"
   ]
  },
  {
   "cell_type": "markdown",
   "metadata": {},
   "source": [
    "只提取了关于PM2.5的数值，并没有考虑其他的气体污染物的数值。"
   ]
  },
  {
   "cell_type": "code",
   "execution_count": 1,
   "metadata": {},
   "outputs": [],
   "source": [
    "import numpy as np\n",
    "from matplotlib import pyplot as plt\n",
    "import pandas as pd"
   ]
  },
  {
   "cell_type": "markdown",
   "metadata": {},
   "source": [
    "引入依赖包"
   ]
  },
  {
   "cell_type": "code",
   "execution_count": 2,
   "metadata": {},
   "outputs": [],
   "source": [
    "# preprocess\n",
    "data = pd.read_csv('train.csv', header=0)  # 读取数据\n",
    "grouped = data.groupby(data.columns[2])    # 进行分组，只提取关于PM2.5的数据\n",
    "pm2_5 = grouped.get_group('PM2.5').loc[:, '0':'23'] \n",
    "pm2_5 = pm2_5.astype('float64')   # 进行类型转换\n",
    "inp = pm2_5.loc[:, '0':'8'].to_numpy()   # 输入信息 转成numpy格式\n",
    "ans = pm2_5.loc[:, '9'].to_numpy()\n",
    "m = ans.shape[0]       # 获取数据的长度"
   ]
  },
  {
   "cell_type": "markdown",
   "metadata": {},
   "source": [
    "这里考虑的比较简单，只提取了前十个小时的数值0点-10点的数值，并没有考虑后面14个小时的数值，因此严格的来说数据是不合格的。"
   ]
  },
  {
   "cell_type": "code",
   "execution_count": 3,
   "metadata": {},
   "outputs": [],
   "source": [
    "# model\n",
    "ALPHA = 1e-4   # 学习速率\n",
    "GAP = 1e-4     #  训练跳出循环的gap\n",
    "b = 0           # bias\n",
    "w = np.array([0 for i in range(9)])   # weight\n",
    "y = lambda x: np.dot(x, w) + b        # function\n",
    "out = y(inp)    # output\n",
    "loss = np.sum((ans - out) ** 2) / (2*m)     # RMSE 均值平方差误差\n",
    "last_loss = loss\n",
    "loss_list = []    # 用于记录损失的过程，用于图像绘制"
   ]
  },
  {
   "cell_type": "markdown",
   "metadata": {},
   "source": [
    "先设置好各个参数之后，开始训练"
   ]
  },
  {
   "cell_type": "code",
   "execution_count": 4,
   "metadata": {
    "pycharm": {
     "name": "#%%\n"
    }
   },
   "outputs": [
    {
     "name": "stdout",
     "output_type": "stream",
     "text": [
      "train over, loss is 14.28\n"
     ]
    },
    {
     "data": {
      "image/png": "[encoded data removed]",
      "text/plain": [
       "<Figure size 432x288 with 1 Axes>"
      ]
     },
     "metadata": {
      "needs_background": "light"
     },
     "output_type": "display_data"
    }
   ],
   "source": [
    "while True:\n",
    "    der_bias = - np.sum(ans - out) / m\n",
    "    der_weight = -sum((inp.T*(ans-out)).T)/m\n",
    "    w = w - ALPHA * der_weight\n",
    "    b = b - ALPHA * der_bias\n",
    "    # 重新计算\n",
    "    out = y(inp)\n",
    "    loss = np.sum((ans - out) ** 2) / (2*m)\n",
    "    if abs(loss-last_loss) < GAP:\n",
    "        break\n",
    "    if loss > last_loss:\n",
    "        print('not')\n",
    "        break\n",
    "    last_loss = loss\n",
    "    loss_list.append(loss)\n",
    "\n",
    "print(f'train over, loss is %.2f' % loss)\n",
    "\n",
    "# plot loss curve\n",
    "\n",
    "ts = pd.Series(loss_list)\n",
    "ts.plot()\n",
    "plt.title('Loss Curve')\n",
    "plt.show()"
   ]
  },
  {
   "cell_type": "markdown",
   "metadata": {},
   "source": [
    "到这里训练结束（**未设置交叉验证集validation**）"
   ]
  },
  {
   "cell_type": "code",
   "execution_count": 5,
   "metadata": {
    "scrolled": true
   },
   "outputs": [
    {
     "name": "stdout",
     "output_type": "stream",
     "text": [
      "test验证集完毕！\n"
     ]
    },
    {
     "data": {
      "text/html": [
       "<div>\n",
       "<style scoped>\n",
       "    .dataframe tbody tr th:only-of-type {\n",
       "        vertical-align: middle;\n",
       "    }\n",
       "\n",
       "    .dataframe tbody tr th {\n",
       "        vertical-align: top;\n",
       "    }\n",
       "\n",
       "    .dataframe thead th {\n",
       "        text-align: right;\n",
       "    }\n",
       "</style>\n",
       "<table border=\"1\" class=\"dataframe\">\n",
       "  <thead>\n",
       "    <tr style=\"text-align: right;\">\n",
       "      <th></th>\n",
       "      <th>value</th>\n",
       "    </tr>\n",
       "    <tr>\n",
       "      <th>id</th>\n",
       "      <th></th>\n",
       "    </tr>\n",
       "  </thead>\n",
       "  <tbody>\n",
       "    <tr>\n",
       "      <th>id_0</th>\n",
       "      <td>5.159619</td>\n",
       "    </tr>\n",
       "    <tr>\n",
       "      <th>id_1</th>\n",
       "      <td>17.057860</td>\n",
       "    </tr>\n",
       "    <tr>\n",
       "      <th>id_2</th>\n",
       "      <td>27.607520</td>\n",
       "    </tr>\n",
       "    <tr>\n",
       "      <th>id_3</th>\n",
       "      <td>10.051586</td>\n",
       "    </tr>\n",
       "    <tr>\n",
       "      <th>id_4</th>\n",
       "      <td>26.248735</td>\n",
       "    </tr>\n",
       "    <tr>\n",
       "      <th>...</th>\n",
       "      <td>...</td>\n",
       "    </tr>\n",
       "    <tr>\n",
       "      <th>id_235</th>\n",
       "      <td>48.180756</td>\n",
       "    </tr>\n",
       "    <tr>\n",
       "      <th>id_236</th>\n",
       "      <td>79.435232</td>\n",
       "    </tr>\n",
       "    <tr>\n",
       "      <th>id_237</th>\n",
       "      <td>47.496652</td>\n",
       "    </tr>\n",
       "    <tr>\n",
       "      <th>id_238</th>\n",
       "      <td>0.873925</td>\n",
       "    </tr>\n",
       "    <tr>\n",
       "      <th>id_239</th>\n",
       "      <td>19.739515</td>\n",
       "    </tr>\n",
       "  </tbody>\n",
       "</table>\n",
       "<p>240 rows × 1 columns</p>\n",
       "</div>"
      ],
      "text/plain": [
       "            value\n",
       "id               \n",
       "id_0     5.159619\n",
       "id_1    17.057860\n",
       "id_2    27.607520\n",
       "id_3    10.051586\n",
       "id_4    26.248735\n",
       "...           ...\n",
       "id_235  48.180756\n",
       "id_236  79.435232\n",
       "id_237  47.496652\n",
       "id_238   0.873925\n",
       "id_239  19.739515\n",
       "\n",
       "[240 rows x 1 columns]"
      ]
     },
     "execution_count": 5,
     "metadata": {},
     "output_type": "execute_result"
    }
   ],
   "source": [
    "# read test.csv\n",
    "\n",
    "test = pd.read_csv('test.csv',names=['id','items','0','1','2','3','4','5','6','7','8'], index_col=0)\n",
    "test_data = test.groupby('items').get_group('PM2.5')\n",
    "test_input = test_data.loc[:,'0':'8'].astype('float64').to_numpy()\n",
    "test_output = y(test_input)\n",
    "df = pd.DataFrame(test_output,test_data.index,['value'])\n",
    "#df.to_csv('ans.csv')\n",
    "print('test验证集完毕！')\n",
    "df"
   ]
  },
  {
   "cell_type": "markdown",
   "metadata": {},
   "source": [
    "**Kaggle结果：**\n",
    "\n",
    "kaggle链接:https://www.kaggle.com/c/ml2020spring-hw1/submissions\n",
    "\n",
    "分数：\n",
    "[![sfyQwn.png](https://s3.ax1x.com/2021/01/20/sfyQwn.png)](https://imgchr.com/i/sfyQwn)\n",
    "\n",
    "**总结与展望：**\n",
    "\n",
    "不足：\n",
    "* 只取的PM2.5的数据，为提取其他特征，未加入气体污染物之间的关联\n",
    "* 只提取了0:00am-10:00am的数据，数据量不足\n",
    "* 未设置交叉验证集\n",
    "* 训练过程中的学习速率未使用adagrad\n",
    "* 未进行归一化处理（normalize）\n"
   ]
  }
 ],
 "metadata": {
  "kernelspec": {
   "display_name": "Python 3",
   "language": "python",
   "name": "python3"
  },
  "language_info": {
   "codemirror_mode": {
    "name": "ipython",
    "version": 3
   },
   "file_extension": ".py",
   "mimetype": "text/x-python",
   "name": "python",
   "nbconvert_exporter": "python",
   "pygments_lexer": "ipython3",
   "version": "3.8.5"
  }
 },
 "nbformat": 4,
 "nbformat_minor": 4
}
