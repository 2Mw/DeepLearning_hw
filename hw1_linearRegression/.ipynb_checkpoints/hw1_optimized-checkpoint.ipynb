{
 "cells": [
  {
   "cell_type": "markdown",
   "metadata": {},
   "source": [
    "# 线性回归预测丰原市PM2.5的数值\n",
    "\n",
    "link: https://www.kaggle.com/c/ml2020spring-hw1\n",
    "\n",
    "视频：[BV1JE411g7XF](https://www.bilibili.com/video/BV1JE411g7XF)\n",
    "\n",
    "相比于初代的point6.01148，本次的point为5.45036，优化了一些\n",
    "并且解决了很多初代的问题：\n",
    "* 加入了其他气体污染物之间的特征\n",
    "* 加入了所有时间段的预测\n",
    "* 添加了validation set，但是没有使用\n",
    "* 使用了adagrad\n",
    "* 使用了归一化normalization"
   ]
  },
  {
   "cell_type": "code",
   "execution_count": 1,
   "metadata": {},
   "outputs": [],
   "source": [
    "import numpy as np\n",
    "from matplotlib import pyplot as plt\n",
    "import pandas as pd\n",
    "import math\n",
    "import warnings\n",
    "warnings.filterwarnings(\"ignore\")"
   ]
  },
  {
   "cell_type": "markdown",
   "metadata": {},
   "source": [
    "引入包，忽略pandas使用iloc函数的警告"
   ]
  },
  {
   "cell_type": "code",
   "execution_count": 2,
   "metadata": {},
   "outputs": [],
   "source": [
    "# preprocess\n",
    "train_data = pd.read_csv('./train.csv').iloc[:, 3:]  # 扔去不要的数据\n",
    "train_data[train_data == 'NR'] = 0  # 解决未记录数值的问题\n",
    "train_data = train_data.astype('float64')  # 类型转换\n",
    "train_data = train_data.to_numpy()   # 转为便于numpy处理的格式"
   ]
  },
  {
   "cell_type": "markdown",
   "metadata": {},
   "source": [
    "对数据进行预处理。\n",
    "\n",
    "这里对于pandas读取CSV文件时候，默认csv文件带属性值（header=0）,如果不存在header则需要注明\"<font color='green'>header=None</font>\",\n",
    "如果想要指定一个列名，则改为\"<font color='green'>header=[a,b,c...]</font>\""
   ]
  },
  {
   "cell_type": "code",
   "execution_count": 3,
   "metadata": {},
   "outputs": [],
   "source": [
    "data_month = {}\n",
    "for month in range(12):\n",
    "    sample = np.empty([18, 480], dtype=float)\n",
    "    for day in range(20):\n",
    "        sample[:, day * 24: (day + 1) * 24] = train_data[(day + month * 20) * 18: (month * 20 + day + 1) * 18, :]\n",
    "    data_month[month] = sample\n",
    "\n",
    "x = np.empty([12 * 471, 18 * 9], dtype=float)\n",
    "y = np.empty((12 * 471, 1), dtype=float)\n",
    "for month in range(12):\n",
    "    for i in range(471):\n",
    "        x[month * 471 + i, :] = data_month[month][:, i:i + 9].reshape(1, -1)\n",
    "        y[month * 471 + i, :] = data_month[month][9, i + 9]"
   ]
  },
  {
   "cell_type": "markdown",
   "metadata": {},
   "source": [
    "需要捋清这里转换的**数据结构转换**：\n",
    "\n",
    "\n",
    "<img src=\"https://ae04.alicdn.com/kf/Hb0ab9e8c67f84dd58e828b161538c08aa.jpg\" style=\"zoom: 30%;\"/>\n",
    "<img src=\"https://s3.ax1x.com/2021/01/29/yFipNR.png\" style=\"zoom: 35%;\" />"
   ]
  },
  {
   "cell_type": "code",
   "execution_count": 4,
   "metadata": {},
   "outputs": [],
   "source": [
    "# normalize\n",
    "mean_x = np.mean(x, axis=0)   # 对列取平均值\n",
    "std_x = np.std(x, axis=0)     # 对列取标准差\n",
    "for i in range(len(std_x)):\n",
    "    if std_x[i] != 0:\n",
    "        x[:, i] = (x[:, i] - mean_x[i]) / std_x[i]  # 对列进行标准化处理"
   ]
  },
  {
   "cell_type": "markdown",
   "metadata": {},
   "source": [
    "mean函数里，axis=0表示对列进行取平均值，对每一列进行归一化处理！"
   ]
  },
  {
   "cell_type": "code",
   "execution_count": 5,
   "metadata": {},
   "outputs": [],
   "source": [
    "# divide validation set\n",
    "x_train_set = x[:math.floor(len(x) * 0.8), :]\n",
    "y_train_set = y[:math.floor(len(y) * 0.8), :]     # 取前80%部分\n",
    "x_validation = x[math.floor(len(x) * 0.8):, :]    # 抛弃前80%部分\n",
    "y_validation = y[math.floor(len(y) * 0.8):, :]"
   ]
  },
  {
   "cell_type": "markdown",
   "metadata": {},
   "source": [
    "训练集中80%用于训练，20%用于validation"
   ]
  },
  {
   "cell_type": "code",
   "execution_count": 6,
   "metadata": {},
   "outputs": [
    {
     "name": "stdout",
     "output_type": "stream",
     "text": [
      "loss:  7, -0.00224\n"
     ]
    },
    {
     "data": {
      "image/png": "[encoded data removed]",
      "text/plain": [
       "<Figure size 432x288 with 1 Axes>"
      ]
     },
     "metadata": {
      "needs_background": "light"
     },
     "output_type": "display_data"
    },
    {
     "data": {
      "text/plain": [
       "array([[ 2.13740269e+01],\n",
       "       [ 3.58888909e+00],\n",
       "       [ 4.56386323e+00],\n",
       "       [ 2.16307023e+00],\n",
       "       [-6.58545223e+00],\n",
       "       [-3.38885580e+01],\n",
       "       [ 3.22235518e+01],\n",
       "       [ 3.49340354e+00],\n",
       "       [-4.60308671e+00],\n",
       "       [-1.02374754e+00],\n",
       "       [-3.96791501e-01],\n",
       "       [-1.06908800e-01],\n",
       "       [ 2.22488184e-01],\n",
       "       [ 8.99634117e-02],\n",
       "       [ 1.31243105e-01],\n",
       "       [ 2.15894989e-02],\n",
       "       [-1.52867263e-01],\n",
       "       [ 4.54087776e-02],\n",
       "       [ 5.20999235e-01],\n",
       "       [ 1.60824213e-01],\n",
       "       [-3.17709451e-02],\n",
       "       [ 1.28529025e-02],\n",
       "       [-1.76839437e-01],\n",
       "       [ 1.71241371e-01],\n",
       "       [-1.31190032e-01],\n",
       "       [-3.51614451e-02],\n",
       "       [ 1.00826192e-01],\n",
       "       [ 3.45018257e-01],\n",
       "       [ 4.00130315e-02],\n",
       "       [ 2.54331382e-02],\n",
       "       [-5.04425219e-01],\n",
       "       [ 3.71483018e-01],\n",
       "       [ 8.46357671e-01],\n",
       "       [-8.11920428e-01],\n",
       "       [-8.00217575e-02],\n",
       "       [ 1.52737711e-01],\n",
       "       [ 2.64915130e-01],\n",
       "       [-5.19860416e-02],\n",
       "       [-2.51988315e-01],\n",
       "       [ 3.85246517e-01],\n",
       "       [ 1.65431451e-01],\n",
       "       [-7.83633314e-02],\n",
       "       [-2.89457231e-01],\n",
       "       [ 1.77615023e-01],\n",
       "       [ 3.22506948e-01],\n",
       "       [-4.59955256e-01],\n",
       "       [-3.48635358e-02],\n",
       "       [-5.81764363e-01],\n",
       "       [-6.43394528e-02],\n",
       "       [-6.32876949e-01],\n",
       "       [ 6.36624507e-02],\n",
       "       [ 8.31592506e-02],\n",
       "       [-4.45157961e-01],\n",
       "       [-2.34526366e-01],\n",
       "       [ 9.86608594e-01],\n",
       "       [ 2.65230652e-01],\n",
       "       [ 3.51938093e-02],\n",
       "       [ 3.07464334e-01],\n",
       "       [-1.04311239e-01],\n",
       "       [-6.49166901e-02],\n",
       "       [ 2.11224757e-01],\n",
       "       [-2.43159815e-01],\n",
       "       [-1.31285604e-01],\n",
       "       [ 1.09045810e+00],\n",
       "       [-3.97913710e-02],\n",
       "       [ 9.19563678e-01],\n",
       "       [-9.44824150e-01],\n",
       "       [-5.04137735e-01],\n",
       "       [ 6.81272939e-01],\n",
       "       [-1.34494828e+00],\n",
       "       [-2.68009542e-01],\n",
       "       [ 4.36204342e-02],\n",
       "       [ 1.89619513e+00],\n",
       "       [-3.41873873e-01],\n",
       "       [ 1.89162461e-01],\n",
       "       [ 1.73251268e-02],\n",
       "       [ 3.14431930e-01],\n",
       "       [-3.40828467e-01],\n",
       "       [ 4.92385651e-01],\n",
       "       [ 9.29634214e-02],\n",
       "       [-4.50983589e-01],\n",
       "       [ 1.47456584e+00],\n",
       "       [-3.03417236e-02],\n",
       "       [ 7.71229328e-02],\n",
       "       [ 6.38314494e-01],\n",
       "       [-7.93287087e-01],\n",
       "       [ 8.82877506e-01],\n",
       "       [ 3.18965610e+00],\n",
       "       [-5.75671706e+00],\n",
       "       [ 1.60748945e+00],\n",
       "       [ 1.36142440e+01],\n",
       "       [ 1.50029111e-01],\n",
       "       [-4.78389603e-02],\n",
       "       [-6.29463755e-02],\n",
       "       [-2.85383032e-02],\n",
       "       [-3.01562821e-01],\n",
       "       [ 4.12058013e-01],\n",
       "       [-6.77534154e-02],\n",
       "       [-1.00985479e-01],\n",
       "       [-1.68972973e-01],\n",
       "       [ 1.64093233e+00],\n",
       "       [ 1.89670371e+00],\n",
       "       [ 3.94713816e-01],\n",
       "       [-4.71231449e+00],\n",
       "       [-7.42760774e+00],\n",
       "       [ 6.19781936e+00],\n",
       "       [ 3.53986244e+00],\n",
       "       [-9.56245861e-01],\n",
       "       [-1.04372792e+00],\n",
       "       [-4.92863713e-01],\n",
       "       [ 6.31608790e-01],\n",
       "       [-4.85175956e-01],\n",
       "       [ 2.58400216e-01],\n",
       "       [ 9.43846795e-02],\n",
       "       [-1.29323184e-01],\n",
       "       [-3.81235287e-01],\n",
       "       [ 3.86819479e-01],\n",
       "       [ 4.04211627e-01],\n",
       "       [ 3.75568914e-01],\n",
       "       [ 1.83512261e-01],\n",
       "       [-8.01417708e-02],\n",
       "       [-3.10188597e-01],\n",
       "       [-3.96124612e-01],\n",
       "       [ 3.66227853e-01],\n",
       "       [ 1.79488593e-01],\n",
       "       [-3.14477051e-01],\n",
       "       [-2.37611443e-01],\n",
       "       [ 3.97076104e-02],\n",
       "       [ 1.38775912e-01],\n",
       "       [-3.84015069e-02],\n",
       "       [-5.47557119e-02],\n",
       "       [ 4.19975207e-01],\n",
       "       [ 4.46120687e-01],\n",
       "       [-4.31074826e-01],\n",
       "       [-8.74450768e-02],\n",
       "       [-5.69534264e-02],\n",
       "       [-7.23980157e-02],\n",
       "       [-1.39880128e-02],\n",
       "       [ 1.40489658e-01],\n",
       "       [-2.44952334e-01],\n",
       "       [ 1.83646770e-01],\n",
       "       [-1.64135512e-01],\n",
       "       [-7.41216452e-02],\n",
       "       [-9.71414213e-02],\n",
       "       [ 1.98829041e-02],\n",
       "       [-4.46965919e-01],\n",
       "       [-2.63440959e-01],\n",
       "       [ 1.52924043e-01],\n",
       "       [ 6.52532847e-02],\n",
       "       [ 7.06818266e-01],\n",
       "       [ 9.73757051e-02],\n",
       "       [-3.35687787e-01],\n",
       "       [-2.26559165e-01],\n",
       "       [-3.00117086e-01],\n",
       "       [ 1.24185231e-01],\n",
       "       [ 4.18872344e-01],\n",
       "       [-2.51891946e-01],\n",
       "       [-1.29095731e-01],\n",
       "       [-5.57512471e-01],\n",
       "       [ 8.76239582e-02],\n",
       "       [ 3.02594902e-01],\n",
       "       [-4.23463160e-01],\n",
       "       [ 4.89922051e-01]])"
      ]
     },
     "execution_count": 6,
     "metadata": {},
     "output_type": "execute_result"
    }
   ],
   "source": [
    "# start train\n",
    "dim = 18 * 9 + 1     # 有 18 * 9 个特征值，外加一个 bias 的维度\n",
    "w = np.zeros([dim, 1])       # 初始化w数组\n",
    "x = np.concatenate((np.ones([12 * 471, 1]), x), axis=1)  \n",
    "LEARNING_RATE = 100  # 定义学习速率\n",
    "ITER_TIMES = 1000    # 定义循环次数\n",
    "adagrad = np.zeros([dim, 1])\n",
    "eps = 1e-10   # 这里防止除零错误\n",
    "loss, last_loss = 0, 0\n",
    "loss_list = []\n",
    "for t in range(ITER_TIMES):\n",
    "    last_loss = loss\n",
    "    loss = np.sqrt(np.sum((y - np.dot(x, w)) ** 2) / (471 * 12)) # RMSE\n",
    "    loss_list.append(loss)   # 记录loss，用于绘制loss的曲线\n",
    "    gradient = 2 * np.dot(x.T, np.dot(x, w) - y)\n",
    "    adagrad += gradient ** 2\n",
    "    w = w - LEARNING_RATE * gradient / np.sqrt(adagrad + eps)\n",
    "print(\"loss: %2.f, %.5f\" % (loss, loss - last_loss))\n",
    "ts = pd.Series(loss_list)\n",
    "ts.plot()\n",
    "plt.title('loss curve')\n",
    "plt.show()\n",
    "w"
   ]
  },
  {
   "cell_type": "markdown",
   "metadata": {},
   "source": [
    "开始训练，训练的时候学习速率采用AdaGrad对于学习速率进行自动调节，注意有一个epsilon变量防止除0错误，并且绘制出loss的曲线\n",
    "\n",
    "AdaGrad内容与原理：\n",
    "\n",
    "$$\n",
    "\\omega^{t+1} = \\omega^t - \\frac{\\eta}{\\sqrt{\\sum_{i=0}^t(g^i)^2}}*g^t\n",
    "$$\n",
    "\n",
    "\n"
   ]
  },
  {
   "cell_type": "markdown",
   "metadata": {},
   "source": [
    "<img src=\"https://s3.ax1x.com/2021/01/30/yFA94s.png\" />"
   ]
  },
  {
   "cell_type": "code",
   "execution_count": 7,
   "metadata": {},
   "outputs": [
    {
     "name": "stdout",
     "output_type": "stream",
     "text": [
      "over\n"
     ]
    },
    {
     "data": {
      "text/html": [
       "<div>\n",
       "<style scoped>\n",
       "    .dataframe tbody tr th:only-of-type {\n",
       "        vertical-align: middle;\n",
       "    }\n",
       "\n",
       "    .dataframe tbody tr th {\n",
       "        vertical-align: top;\n",
       "    }\n",
       "\n",
       "    .dataframe thead th {\n",
       "        text-align: right;\n",
       "    }\n",
       "</style>\n",
       "<table border=\"1\" class=\"dataframe\">\n",
       "  <thead>\n",
       "    <tr style=\"text-align: right;\">\n",
       "      <th></th>\n",
       "      <th>value</th>\n",
       "    </tr>\n",
       "    <tr>\n",
       "      <th>id</th>\n",
       "      <th></th>\n",
       "    </tr>\n",
       "  </thead>\n",
       "  <tbody>\n",
       "    <tr>\n",
       "      <th>id_0</th>\n",
       "      <td>5.174960</td>\n",
       "    </tr>\n",
       "    <tr>\n",
       "      <th>id_1</th>\n",
       "      <td>18.306214</td>\n",
       "    </tr>\n",
       "    <tr>\n",
       "      <th>id_2</th>\n",
       "      <td>20.491218</td>\n",
       "    </tr>\n",
       "    <tr>\n",
       "      <th>id_3</th>\n",
       "      <td>11.523943</td>\n",
       "    </tr>\n",
       "    <tr>\n",
       "      <th>id_4</th>\n",
       "      <td>26.616057</td>\n",
       "    </tr>\n",
       "    <tr>\n",
       "      <th>...</th>\n",
       "      <td>...</td>\n",
       "    </tr>\n",
       "    <tr>\n",
       "      <th>id_235</th>\n",
       "      <td>41.266544</td>\n",
       "    </tr>\n",
       "    <tr>\n",
       "      <th>id_236</th>\n",
       "      <td>69.027892</td>\n",
       "    </tr>\n",
       "    <tr>\n",
       "      <th>id_237</th>\n",
       "      <td>40.346249</td>\n",
       "    </tr>\n",
       "    <tr>\n",
       "      <th>id_238</th>\n",
       "      <td>14.313744</td>\n",
       "    </tr>\n",
       "    <tr>\n",
       "      <th>id_239</th>\n",
       "      <td>15.770727</td>\n",
       "    </tr>\n",
       "  </tbody>\n",
       "</table>\n",
       "<p>240 rows × 1 columns</p>\n",
       "</div>"
      ],
      "text/plain": [
       "            value\n",
       "id               \n",
       "id_0     5.174960\n",
       "id_1    18.306214\n",
       "id_2    20.491218\n",
       "id_3    11.523943\n",
       "id_4    26.616057\n",
       "...           ...\n",
       "id_235  41.266544\n",
       "id_236  69.027892\n",
       "id_237  40.346249\n",
       "id_238  14.313744\n",
       "id_239  15.770727\n",
       "\n",
       "[240 rows x 1 columns]"
      ]
     },
     "execution_count": 7,
     "metadata": {},
     "output_type": "execute_result"
    }
   ],
   "source": [
    "# test data\n",
    "t_data = pd.read_csv('test.csv', names=['id','items','0','1','2','3','4','5','6','7','8'], index_col=0)\n",
    "testdata = t_data.iloc[:, 1:]\n",
    "testdata[testdata == 'NR'] = 0\n",
    "testdata = testdata.astype(float).to_numpy()\n",
    "test_x = np.empty([240, 18 * 9])\n",
    "for i in range(240):\n",
    "    test_x[i, :] = testdata[i * 18:(i + 1) * 18, :].reshape(1, -1)\n",
    "for i in range(len(std_x)):    # 对于test的数据也要进行归一化处理！！\n",
    "    if std_x[i] != 0:\n",
    "        test_x[:, i] = (test_x[:, i] - mean_x[i]) / std_x[i]\n",
    "test_x = np.concatenate((np.ones([240, 1]), test_x), axis=1)\n",
    "res = np.dot(test_x, w).reshape(1, -1)\n",
    "\n",
    "# output\n",
    "r = pd.DataFrame(res.T,t_data.groupby('items').get_group('PM2.5').index,['value'])\n",
    "#r.to_csv('ans2.csv')\n",
    "print('over')\n",
    "r"
   ]
  },
  {
   "cell_type": "markdown",
   "metadata": {},
   "source": [
    "训练完成之后，就开始预测test.csv的值，并且输出结果"
   ]
  },
  {
   "cell_type": "markdown",
   "metadata": {},
   "source": [
    "**结果与展望：**\n",
    "\n",
    "<font color='red'>注意事项:</font>\n",
    "\n",
    "1. 要理清楚预处理的数据结果处理！\n",
    "2. 归一化处理的时候，对train data进行归一化处理，对test data也要进行归一化处理！！\n",
    "3. **未进行validation数据集的使用**\n"
   ]
  }
 ],
 "metadata": {
  "kernelspec": {
   "display_name": "Python 3",
   "language": "python",
   "name": "python3"
  },
  "language_info": {
   "codemirror_mode": {
    "name": "ipython",
    "version": 3
   },
   "file_extension": ".py",
   "mimetype": "text/x-python",
   "name": "python",
   "nbconvert_exporter": "python",
   "pygments_lexer": "ipython3",
   "version": "3.8.5"
  }
 },
 "nbformat": 4,
 "nbformat_minor": 4
}
